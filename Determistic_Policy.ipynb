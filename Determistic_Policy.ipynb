{
  "nbformat": 4,
  "nbformat_minor": 0,
  "metadata": {
    "colab": {
      "provenance": []
    },
    "kernelspec": {
      "name": "python3",
      "display_name": "Python 3"
    },
    "language_info": {
      "name": "python"
    }
  },
  "cells": [
    {
      "cell_type": "code",
      "execution_count": 30,
      "metadata": {
        "id": "6arVriypN5LA"
      },
      "outputs": [],
      "source": [
        "import numpy as np"
      ]
    },
    {
      "cell_type": "code",
      "source": [
        "def deterministic_policy(state):\n",
        "  if state== \"S1\":\n",
        "    return \"A1\"\n",
        "  elif state== \"S2\":\n",
        "    return \"A2\"\n",
        "  elif state== \"S3\":\n",
        "    return \"A1\"\n",
        "  else:\n",
        "    return \"Invalid State\"\n"
      ],
      "metadata": {
        "id": "1zrLVIdBO1Ja"
      },
      "execution_count": 31,
      "outputs": []
    },
    {
      "cell_type": "code",
      "source": [
        "#define the functction to simulate the envirement\n",
        "def simulate_env(state, action):\n",
        "  #(state->action->action->next_state)\n",
        "  transitions= {\n",
        "      \"S1\":{\"A1\":\"S2\",\"A2\":\"S3\"},\n",
        "      \"S2\":{\"A1\":\"S1\",\"A2\":\"S3\"},\n",
        "      \"S3\":{\"A1\":\"S1\",\"A2\":\"S2\"}\n",
        "  }\n",
        "  #define the reward func (state->action ->next_state->reward)\n",
        "  rewards={\n",
        "      \"S1\":{\"A1\":{\"S2\":10,\"S1\":-1},\"A2\":{\"S3\":0,\"S2\":-1}},\n",
        "      \"S2\":{\"A1\":{\"S1\":0,\"S2\":-1},\"A2\":{\"S3\":5,\"S1\":-1}},\n",
        "      \"S3\":{\"A1\":{\"S1\":-1,\"S2\":0},\"A2\":{\"S2\":0,\"S3\":-1}}\n",
        "  }\n",
        "  #simulate env\n",
        "  next_state= transitions[state][action]\n",
        "  reward= rewards[state][action][next_state]\n",
        "  return next_state,reward\n",
        "  # Define starting state\n",
        "current_state = \"S1\""
      ],
      "metadata": {
        "id": "FFURmeN0Psez"
      },
      "execution_count": 32,
      "outputs": []
    },
    {
      "cell_type": "code",
      "source": [
        "mx=0\n",
        "for i in range(0,10):\n",
        "  action = deterministic_policy(current_state)\n",
        "  mx_Rew=0\n",
        "\n",
        "  print(f\"Time Step {i + 1}: Current State: {current_state}, Action: {action}\")\n",
        "  next_state, reward= simulate_env(current_state,action)\n",
        "  print(f\"Reward:{reward}\")\n",
        "  if current_state== \"S3\":\n",
        "    mx_Rew=0\n",
        "  current_state= next_state\n",
        "  mx_Rew+=reward\n",
        "  mx=max(mx_Rew,mx)\n",
        "\n",
        "\n",
        "\n",
        "print(f\"max reward:{mx}\")\n",
        "print(\"Simulation complete.\")"
      ],
      "metadata": {
        "colab": {
          "base_uri": "https://localhost:8080/"
        },
        "id": "-n3l0qohRKuI",
        "outputId": "8f527346-23fb-4173-ac22-ebf69ed3bda8"
      },
      "execution_count": 33,
      "outputs": [
        {
          "output_type": "stream",
          "name": "stdout",
          "text": [
            "Time Step 1: Current State: S1, Action: A1\n",
            "Time Step 2: Current State: S2, Action: A2\n",
            "Time Step 3: Current State: S3, Action: A1\n",
            "Time Step 4: Current State: S1, Action: A1\n",
            "Time Step 5: Current State: S2, Action: A2\n",
            "Time Step 6: Current State: S3, Action: A1\n",
            "Time Step 7: Current State: S1, Action: A1\n",
            "Time Step 8: Current State: S2, Action: A2\n",
            "Time Step 9: Current State: S3, Action: A1\n",
            "Time Step 10: Current State: S1, Action: A1\n",
            "max reward:10\n",
            "Simulation complete.\n"
          ]
        }
      ]
    },
    {
      "cell_type": "code",
      "source": [],
      "metadata": {
        "id": "B-vQ26-2YHE_"
      },
      "execution_count": 33,
      "outputs": []
    }
  ]
}