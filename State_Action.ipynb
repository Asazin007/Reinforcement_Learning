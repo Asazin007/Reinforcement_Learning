{
  "nbformat": 4,
  "nbformat_minor": 0,
  "metadata": {
    "colab": {
      "provenance": [],
      "authorship_tag": "ABX9TyPhhP+AGYTBtSqMk8zOcTHV",
      "include_colab_link": true
    },
    "kernelspec": {
      "name": "python3",
      "display_name": "Python 3"
    },
    "language_info": {
      "name": "python"
    }
  },
  "cells": [
    {
      "cell_type": "markdown",
      "metadata": {
        "id": "view-in-github",
        "colab_type": "text"
      },
      "source": [
        "<a href=\"https://colab.research.google.com/github/Asazin007/Reinforcement_Learning/blob/main/State_Action.ipynb\" target=\"_parent\"><img src=\"https://colab.research.google.com/assets/colab-badge.svg\" alt=\"Open In Colab\"/></a>"
      ]
    },
    {
      "cell_type": "markdown",
      "source": [
        "State Action"
      ],
      "metadata": {
        "id": "NLjRrYgeWaaN"
      }
    },
    {
      "cell_type": "code",
      "execution_count": 11,
      "metadata": {
        "id": "W2vt32YaPm3N"
      },
      "outputs": [],
      "source": [
        "import numpy as np"
      ]
    },
    {
      "cell_type": "code",
      "source": [
        "#no of states and actions\n",
        "num_states =4\n",
        "num_actions= 2"
      ],
      "metadata": {
        "id": "mk4HV6T7P00N"
      },
      "execution_count": 12,
      "outputs": []
    },
    {
      "cell_type": "code",
      "source": [
        "#reward matrix(R(S,a))\n",
        "R= np.array([[10,0],\n",
        "             [0,20],\n",
        "             [30,40],\n",
        "             [1,1]],dtype=float)\n",
        "# Define the transition probability matrix(P(s|s,a))\n",
        "#replace this with specific transition\n",
        "P= np.array([[[0.5,0.5,0,0],\n",
        "              [0,0,0,0]],\n",
        "             [[0,0.5,0.5,0],\n",
        "              [0,0,0,0]],\n",
        "             [[0,0,0.5,0.5],\n",
        "              [0,0,0,0]],\n",
        "             [[0,0,0,1],\n",
        "             [0,0,0,1] ] ] , dtype=float)\n"
      ],
      "metadata": {
        "id": "BjHKD3BeQD71"
      },
      "execution_count": 13,
      "outputs": []
    },
    {
      "cell_type": "code",
      "source": [
        "#Define discount factor\n",
        "gamma = 0.9\n",
        "#initialize the state action value factor\n",
        "Q = np.zeros((num_states,num_actions),dtype=float)\n",
        "\n",
        "#no if iterations\n",
        "num_iterations=100\n",
        "\n",
        "\n"
      ],
      "metadata": {
        "id": "fpEjFwmkSZrY"
      },
      "execution_count": 15,
      "outputs": []
    },
    {
      "cell_type": "code",
      "source": [
        "#bELLMAN\n",
        "for i in range (num_iterations):\n",
        "  new_Q= np.zeros((num_states,num_actions),dtype=float)\n",
        "  for s in range(num_states):\n",
        "    for a in range(num_actions):\n",
        "      for s_prime in range(num_states):\n",
        "        new_Q[s,a]+= P[s,a,s_prime]*(R[s,a]+gamma*np.max(Q[s_prime]))\n",
        "  Q= new_Q\n",
        "\n",
        "\n",
        "#print the calculated state-action values\n",
        "for s in range(num_states):\n",
        "  for a in range(num_actions):\n",
        "    print(f\"Q({s},{a})={Q[s,a]}\")\n"
      ],
      "metadata": {
        "colab": {
          "base_uri": "https://localhost:8080/"
        },
        "id": "M9kM1UCwTAk6",
        "outputId": "1f2e2d40-0f1c-4d7b-e45b-e02bdeece003"
      },
      "execution_count": 16,
      "outputs": [
        {
          "output_type": "stream",
          "name": "stdout",
          "text": [
            "Q(0,0)=60.1725367902185\n",
            "Q(0,1)=0.0\n",
            "Q(1,0)=51.32204843559791\n",
            "Q(1,1)=0.0\n",
            "Q(2,0)=62.727007113283854\n",
            "Q(2,1)=0.0\n",
            "Q(3,0)=9.999734386011127\n",
            "Q(3,1)=9.999734386011127\n"
          ]
        }
      ]
    },
    {
      "cell_type": "markdown",
      "source": [],
      "metadata": {
        "id": "dGRYN68MWXG7"
      }
    },
    {
      "cell_type": "code",
      "source": [],
      "metadata": {
        "id": "RgdNLBPuVOQj"
      },
      "execution_count": null,
      "outputs": []
    }
  ]
}